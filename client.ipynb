{
 "cells": [
  {
   "cell_type": "markdown",
   "id": "24a12401",
   "metadata": {},
   "source": [
    "En este notebook construiremos un cliente usando la biblioteca `requests` para interactuar con el servidor."
   ]
  },
  {
   "cell_type": "code",
   "execution_count": 2,
   "id": "10aff399",
   "metadata": {},
   "outputs": [],
   "source": [
    "import requests\n",
    "import numpy as np\n",
    "import json"
   ]
  },
  {
   "cell_type": "code",
   "execution_count": 13,
   "id": "605ce916",
   "metadata": {},
   "outputs": [],
   "source": [
    "base_url = 'https://modelo-regresion-lineal.onrender.com'\n",
    "endpoint = ''\n",
    "confidence = 0.5"
   ]
  },
  {
   "cell_type": "code",
   "execution_count": 14,
   "id": "d68a239e",
   "metadata": {},
   "outputs": [],
   "source": [
    "url_final = base_url + endpoint"
   ]
  },
  {
   "cell_type": "markdown",
   "id": "a969181b",
   "metadata": {},
   "source": [
    "### Enviando una solicitud al servidor"
   ]
  },
  {
   "cell_type": "code",
   "execution_count": 8,
   "id": "a75f41e7",
   "metadata": {},
   "outputs": [],
   "source": [
    "def response_from_server(url, item_features, verbose=True):\n",
    "    \"\"\"Hace una solicitud POST al servidor y retorna la respuesta.\n",
    "\n",
    "    Argumentos:\n",
    "        url (str): URL a la que se envía la consulta.\n",
    "        item_features (dict): vector de característica.\n",
    "        verbose (bool): True si se debe imprimir el estado de la solicitud. False en otro caso.\n",
    "\n",
    "    Retorna:\n",
    "        requests.models.Response: Respuesta del servidor.\n",
    "    \"\"\"\n",
    "    response = requests.post(url, data=json.dumps(item_features))\n",
    "    status_code = response.status_code\n",
    "    if verbose:\n",
    "        msg = \"¡Todo funcionó bien!\" if status_code == 200 else \"Hubo un error al ejecutar la solicitud.\"\n",
    "        print(msg)\n",
    "    return response"
   ]
  },
  {
   "cell_type": "code",
   "execution_count": 4,
   "id": "f8ab44c0",
   "metadata": {},
   "outputs": [],
   "source": [
    "#DATOS DE ENTRADA\n",
    "item_features = {\n",
    "    \"price\": 15210000,\n",
    "    \"area\": 8502, \n",
    "    \"bedrooms\": 5,\n",
    "    \"bathrooms\": 2,\n",
    "    \"stories\": 2,\n",
    "    \"guestroom\": 0,\n",
    "    \"hotwaterheating\": 1,\n",
    "    \"airconditioning\": 0,\n",
    "    \"parking\": 2\n",
    "}"
   ]
  },
  {
   "cell_type": "code",
   "execution_count": 9,
   "id": "58e94c6e",
   "metadata": {},
   "outputs": [
    {
     "name": "stdout",
     "output_type": "stream",
     "text": [
      "Hubo un error al ejecutar la solicitud.\n"
     ]
    },
    {
     "data": {
      "text/plain": [
       "'{\"detail\":[{\"type\":\"missing\",\"loc\":[\"query\",\"confidence\"],\"msg\":\"Field required\",\"input\":null}]}'"
      ]
     },
     "execution_count": 9,
     "metadata": {},
     "output_type": "execute_result"
    }
   ],
   "source": [
    "url = \"https://modelo-regresion-lineal.onrender.com/predict\"\n",
    "\n",
    "\n",
    "prediction = response_from_server(url, item_features)\n",
    "prediction.text"
   ]
  }
 ],
 "metadata": {
  "kernelspec": {
   "display_name": "Modelo_Regresion_Lineal",
   "language": "python",
   "name": "python3"
  },
  "language_info": {
   "codemirror_mode": {
    "name": "ipython",
    "version": 3
   },
   "file_extension": ".py",
   "mimetype": "text/x-python",
   "name": "python",
   "nbconvert_exporter": "python",
   "pygments_lexer": "ipython3",
   "version": "3.9.23"
  }
 },
 "nbformat": 4,
 "nbformat_minor": 5
}
