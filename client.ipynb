{
 "cells": [
  {
   "cell_type": "markdown",
   "id": "24a12401",
   "metadata": {},
   "source": [
    "En este notebook construiremos un cliente usando la biblioteca `requests` para interactuar con el servidor."
   ]
  }
 ],
 "metadata": {
  "language_info": {
   "name": "python"
  }
 },
 "nbformat": 4,
 "nbformat_minor": 5
}
