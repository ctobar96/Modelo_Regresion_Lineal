{
 "cells": [
  {
   "cell_type": "markdown",
   "id": "24a12401",
   "metadata": {},
   "source": [
    "En este notebook construiremos un cliente usando la biblioteca `requests` para interactuar con el servidor."
   ]
  },
  {
   "cell_type": "code",
   "execution_count": 33,
   "id": "10aff399",
   "metadata": {},
   "outputs": [],
   "source": [
    "import requests\n",
    "import numpy as np\n",
    "import json"
   ]
  },
  {
   "cell_type": "code",
   "execution_count": 34,
   "id": "605ce916",
   "metadata": {},
   "outputs": [],
   "source": [
    "base_url = 'https://modelo-regresion-lineal.onrender.com'\n",
    "endpoint = '/predict'\n",
    "confidence = 0.5"
   ]
  },
  {
   "cell_type": "code",
   "execution_count": 51,
   "id": "d68a239e",
   "metadata": {},
   "outputs": [
    {
     "data": {
      "text/plain": [
       "'https://modelo-regresion-lineal.onrender.com/predict?confidence=0.5'"
      ]
     },
     "execution_count": 51,
     "metadata": {},
     "output_type": "execute_result"
    }
   ],
   "source": [
    "url_final = base_url + endpoint+ \"?confidence=\"+str(confidence)\n",
    "url_final"
   ]
  },
  {
   "cell_type": "markdown",
   "id": "a969181b",
   "metadata": {},
   "source": [
    "### Enviando una solicitud al servidor"
   ]
  },
  {
   "cell_type": "code",
   "execution_count": 62,
   "id": "a75f41e7",
   "metadata": {},
   "outputs": [],
   "source": [
    "def response_from_server(url, item_features, confidence=0.5, verbose=True):\n",
    "    \"\"\"Hace una solicitud POST al servidor y retorna la respuesta.\n",
    "\n",
    "    Argumentos:\n",
    "        url (str): URL a la que se envía la consulta.\n",
    "        item_features (dict): vector de característica.\n",
    "        verbose (bool): True si se debe imprimir el estado de la solicitud. False en otro caso.\n",
    "\n",
    "    Retorna:\n",
    "        requests.models.Response: Respuesta del servidor.\n",
    "    \"\"\"\n",
    "    # Inserta o sobreescribe el campo\n",
    "    item_features[\"confidence\"] = confidence\n",
    "    \n",
    "    response = requests.post(url, json=item_features, timeout=5)\n",
    "    status_code = response.status_code\n",
    "    if verbose:\n",
    "        msg = \"¡Todo funcionó bien!\" if status_code == 200 else \"Hubo un error al ejecutar la solicitud.\"\n",
    "        print(msg)\n",
    "    return response"
   ]
  },
  {
   "cell_type": "code",
   "execution_count": 63,
   "id": "f8ab44c0",
   "metadata": {},
   "outputs": [],
   "source": [
    "#DATOS DE ENTRADA\n",
    "item_features = {\n",
    "    \"price\": 15210000,\n",
    "    \"area\": 8502, \n",
    "    \"bedrooms\": 5,\n",
    "    \"bathrooms\": 2,\n",
    "    \"stories\": 2,\n",
    "    \"guestroom\": 0,\n",
    "    \"hotwaterheating\": 1,\n",
    "    \"airconditioning\": 0,\n",
    "    \"parking\": 2,\n",
    "}"
   ]
  },
  {
   "cell_type": "code",
   "execution_count": 64,
   "id": "58e94c6e",
   "metadata": {},
   "outputs": [
    {
     "name": "stdout",
     "output_type": "stream",
     "text": [
      "Hubo un error al ejecutar la solicitud.\n"
     ]
    },
    {
     "data": {
      "text/plain": [
       "'{\"detail\":\"Error interno en la predicción\"}'"
      ]
     },
     "execution_count": 64,
     "metadata": {},
     "output_type": "execute_result"
    }
   ],
   "source": [
    "prediction = response_from_server(url_final, item_features)\n",
    "prediction.text"
   ]
  },
  {
   "cell_type": "code",
   "execution_count": 67,
   "id": "ae5390af",
   "metadata": {},
   "outputs": [
    {
     "name": "stdout",
     "output_type": "stream",
     "text": [
      "Petición 1 → Enviados: {'price': 15210000, 'area': 8502, 'bedrooms': 5, 'bathrooms': 2, 'stories': 2, 'guestroom': 0, 'hotwaterheating': 1, 'airconditioning': 0, 'parking': 2, 'confidence': 0.5}\n",
      "Respuesta 1 → Código: 500, Contenido: {'detail': 'Error interno en la predicción'}\n",
      "------------------------------------------------------------\n",
      "Petición 2 → Enviados: {'price': 8500000, 'area': 6500, 'bedrooms': 4, 'bathrooms': 2, 'stories': 1, 'guestroom': 1, 'hotwaterheating': 0, 'airconditioning': 1, 'parking': 1, 'confidence': 0.8}\n",
      "Respuesta 2 → Código: 500, Contenido: {'detail': 'Error interno en la predicción'}\n",
      "------------------------------------------------------------\n",
      "Petición 3 → Enviados: {'price': 12000000, 'area': 7200, 'bedrooms': 3, 'bathrooms': 1, 'stories': 1, 'guestroom': 0, 'hotwaterheating': 1, 'airconditioning': 0, 'parking': 2, 'confidence': 0.3}\n",
      "Respuesta 3 → Código: 500, Contenido: {'detail': 'Error interno en la predicción'}\n",
      "------------------------------------------------------------\n"
     ]
    }
   ],
   "source": [
    "import requests\n",
    "\n",
    "url = \"https://modelo-regresion-lineal.onrender.com/predict\"\n",
    "\n",
    "payloads = [\n",
    "    {\n",
    "        \"price\": 15_210_000, \"area\": 8502, \"bedrooms\": 5, \"bathrooms\": 2,\n",
    "        \"stories\": 2, \"guestroom\": 0, \"hotwaterheating\": 1,\n",
    "        \"airconditioning\": 0, \"parking\": 2, \"confidence\": 0.5\n",
    "    },\n",
    "    {\n",
    "        \"price\":  8_500_000, \"area\": 6500, \"bedrooms\": 4, \"bathrooms\": 2,\n",
    "        \"stories\": 1, \"guestroom\": 1, \"hotwaterheating\": 0,\n",
    "        \"airconditioning\": 1, \"parking\": 1, \"confidence\": 0.8\n",
    "    },\n",
    "    {\n",
    "        \"price\": 12_000_000, \"area\": 7200, \"bedrooms\": 3, \"bathrooms\": 1,\n",
    "        \"stories\": 1, \"guestroom\": 0, \"hotwaterheating\": 1,\n",
    "        \"airconditioning\": 0, \"parking\": 2, \"confidence\": 0.3\n",
    "    },\n",
    "]\n",
    "\n",
    "for i, payload in enumerate(payloads, start=1):\n",
    "    resp = requests.post(url, json=payload, timeout=5)\n",
    "    print(f\"Petición {i} → Enviados: {payload}\")\n",
    "    print(f\"Respuesta {i} → Código: {resp.status_code}, Contenido: {resp.json()}\")\n",
    "    print(\"-\" * 60)\n"
   ]
  }
 ],
 "metadata": {
  "kernelspec": {
   "display_name": "Modelo_Regresion_Lineal",
   "language": "python",
   "name": "python3"
  },
  "language_info": {
   "codemirror_mode": {
    "name": "ipython",
    "version": 3
   },
   "file_extension": ".py",
   "mimetype": "text/x-python",
   "name": "python",
   "nbconvert_exporter": "python",
   "pygments_lexer": "ipython3",
   "version": "3.9.23"
  }
 },
 "nbformat": 4,
 "nbformat_minor": 5
}
