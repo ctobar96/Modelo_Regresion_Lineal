{
 "cells": [
  {
   "cell_type": "markdown",
   "id": "24a12401",
   "metadata": {},
   "source": [
    "En este notebook construiremos un cliente usando la biblioteca `requests` para interactuar con el servidor."
   ]
  },
  {
   "cell_type": "code",
   "execution_count": 33,
   "id": "10aff399",
   "metadata": {},
   "outputs": [],
   "source": [
    "import requests\n",
    "import numpy as np\n",
    "import json"
   ]
  },
  {
   "cell_type": "markdown",
   "id": "a969181b",
   "metadata": {},
   "source": [
    "### Enviando una solicitud al servidor"
   ]
  },
  {
   "cell_type": "code",
   "execution_count": null,
   "id": "b14ebafb",
   "metadata": {},
   "outputs": [
    {
     "name": "stdout",
     "output_type": "stream",
     "text": [
      "Petición 1 → Error HTTP 404: {\"detail\":\"Not Found\"}\n",
      "------------------------------------------------------------\n",
      "Petición 2 → Error HTTP 404: {\"detail\":\"Not Found\"}\n",
      "------------------------------------------------------------\n",
      "Petición 3 → Error HTTP 404: {\"detail\":\"Not Found\"}\n",
      "------------------------------------------------------------\n"
     ]
    }
   ],
   "source": [
    "url = \"https://modelo-regresion-lineal.onrender.com/predict_price\"\n",
    "\n",
    "# Cada payload solo tiene las features de entrada, sin price ni confidence\n",
    "payloads = [\n",
    "    {\n",
    "        \"area\": 8502, \"bedrooms\": 5, \"bathrooms\": 2,\n",
    "        \"stories\": 2, \"guestroom\": 0, \"hotwaterheating\": 1,\n",
    "        \"airconditioning\": 0, \"parking\": 2\n",
    "    },\n",
    "    {\n",
    "        \"area\": 6500, \"bedrooms\": 4, \"bathrooms\": 2,\n",
    "        \"stories\": 1, \"guestroom\": 1, \"hotwaterheating\": 0,\n",
    "        \"airconditioning\": 1, \"parking\": 1\n",
    "    },\n",
    "    {\n",
    "        \"area\": 7200, \"bedrooms\": 3, \"bathrooms\": 1,\n",
    "        \"stories\": 1, \"guestroom\": 0, \"hotwaterheating\": 1,\n",
    "        \"airconditioning\": 0, \"parking\": 2\n",
    "    },\n",
    "]\n",
    "\n",
    "\n",
    "with requests.Session() as session:\n",
    "    for i, payload in enumerate(payloads, start=1):\n",
    "        try:\n",
    "            resp = session.post(url, json=payload, timeout=5)\n",
    "            resp.raise_for_status()\n",
    "            data = resp.json()\n",
    "            print(f\"Petición {i} → Enviado: {payload}\")\n",
    "            print(f\"Respuesta {i} → Código: {resp.status_code}, Predicho: {data['predicted_price']}\")\n",
    "        except requests.HTTPError as he:\n",
    "            print(f\"Petición {i} → Error HTTP {he.response.status_code}: {he.response.text}\")\n",
    "        except Exception as ex:\n",
    "            print(f\"Petición {i} → Falló: {ex}\")\n",
    "        print(\"-\" * 60)\n"
   ]
  },
  {
   "cell_type": "code",
   "execution_count": 86,
   "id": "f56a25b1",
   "metadata": {},
   "outputs": [
    {
     "name": "stdout",
     "output_type": "stream",
     "text": [
      "Rutas registradas en el servidor:\n",
      "  /\n",
      "  /predict\n"
     ]
    }
   ],
   "source": [
    "import requests, json\n",
    "\n",
    "base = \"https://modelo-regresion-lineal.onrender.com\"\n",
    "\n",
    "with requests.Session() as s:\n",
    "    # Descarga el spec\n",
    "    resp = s.get(f\"{base}/openapi.json\", timeout=5)\n",
    "    resp.raise_for_status()\n",
    "    spec = resp.json()\n",
    "    \n",
    "    print(\"Rutas registradas en el servidor:\")\n",
    "    for path in spec[\"paths\"].keys():\n",
    "        print(\" \", path)\n"
   ]
  },
  {
   "cell_type": "code",
   "execution_count": null,
   "id": "2cfbe682",
   "metadata": {},
   "outputs": [],
   "source": [
    "\"https://modelo-regresion-lineal.onrender.com/predict_price\""
   ]
  }
 ],
 "metadata": {
  "kernelspec": {
   "display_name": "Modelo_Regresion_Lineal",
   "language": "python",
   "name": "python3"
  },
  "language_info": {
   "codemirror_mode": {
    "name": "ipython",
    "version": 3
   },
   "file_extension": ".py",
   "mimetype": "text/x-python",
   "name": "python",
   "nbconvert_exporter": "python",
   "pygments_lexer": "ipython3",
   "version": "3.9.23"
  }
 },
 "nbformat": 4,
 "nbformat_minor": 5
}
